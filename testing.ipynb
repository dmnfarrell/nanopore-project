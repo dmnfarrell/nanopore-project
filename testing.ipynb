{
 "cells": [
  {
   "cell_type": "markdown",
   "id": "bc095f2c-72f9-4cd2-ae1f-8b187a1f51d3",
   "metadata": {},
   "source": [
    "# ONT for bacterial SNP calling\n",
    "\n",
    "* tools used: medaka, guppy"
   ]
  },
  {
   "cell_type": "code",
   "execution_count": 66,
   "id": "27cc668d-6331-4820-93dd-cf945aee377b",
   "metadata": {},
   "outputs": [],
   "source": [
    "import sys,os,shutil,subprocess\n",
    "import glob,time\n",
    "from importlib import reload\n",
    "import numpy as np\n",
    "import pandas as pd\n",
    "import seaborn as sns\n",
    "from snipgenie import app, tools"
   ]
  },
  {
   "cell_type": "markdown",
   "id": "f4510624-57e5-44c7-81e5-25096fa0cf7c",
   "metadata": {},
   "source": [
    "## test guppy command"
   ]
  },
  {
   "cell_type": "code",
   "execution_count": 27,
   "id": "f5b66143-ec34-4d9f-8319-7dd34089498d",
   "metadata": {},
   "outputs": [],
   "source": [
    "def run_guppy(path,out,threads_per_caller,num_callers,chunks_per_runner,gpu_runners_per_device):\n",
    "        \n",
    "    cmd = 'guppy_basecaller -i {p} -s {o} --cpu_threads_per_caller {tpc} --num_callers {nc} --chunks_per_runner {cpr} \\\n",
    "        --gpu_runners_per_device {grpd} \\\n",
    "        -c {c} -x \"cuda:0\"'.format(o=out,p=path,c=cfg,tpc=threads_per_caller,nc=num_callers,\n",
    "                                   cpr=chunks_per_runner,grpd=gpu_runners_per_device)\n",
    "    print (cmd)\n",
    "    st=time.time()\n",
    "    tmp = subprocess.check_output(cmd, shell=True)\n",
    "    elapsed=time.time()-st\n",
    "    return elapsed"
   ]
  },
  {
   "cell_type": "code",
   "execution_count": 218,
   "id": "ffab6193-7585-42fd-9141-5aefd0b1735c",
   "metadata": {},
   "outputs": [
    {
     "name": "stdout",
     "output_type": "stream",
     "text": [
      "guppy_basecaller -i test/fast5 -s test/basecall_fast/ --cpu_threads_per_caller 2 --num_callers 2 --chunks_per_runner 512         --gpu_runners_per_device 2         -c /home/farrell/gitprojects/nanopore-project/test/custom.cfg -x \"cuda:0\"\n",
      "2 79.0900866985321\n",
      "guppy_basecaller -i test/fast5 -s test/basecall_fast/ --cpu_threads_per_caller 2 --num_callers 2 --chunks_per_runner 512         --gpu_runners_per_device 3         -c /home/farrell/gitprojects/nanopore-project/test/custom.cfg -x \"cuda:0\"\n",
      "3 77.95413303375244\n",
      "guppy_basecaller -i test/fast5 -s test/basecall_fast/ --cpu_threads_per_caller 2 --num_callers 2 --chunks_per_runner 512         --gpu_runners_per_device 4         -c /home/farrell/gitprojects/nanopore-project/test/custom.cfg -x \"cuda:0\"\n",
      "4 77.58523440361023\n"
     ]
    }
   ],
   "source": [
    "cfg='/home/farrell/gitprojects/nanopore-project/test/custom.cfg' \n",
    "res=[]\n",
    "for x in range(2,5,1):\n",
    "    t = run_guppy('test/fast5','test/basecall_fast/',2,2,512,x)\n",
    "    print (x,t)\n",
    "    res.append([x,t])"
   ]
  },
  {
   "cell_type": "code",
   "execution_count": 213,
   "id": "d62e24cf-4cbf-465b-8afa-61318216f8fd",
   "metadata": {},
   "outputs": [
    {
     "data": {
      "text/plain": [
       "<AxesSubplot:xlabel='metric'>"
      ]
     },
     "execution_count": 213,
     "metadata": {},
     "output_type": "execute_result"
    },
    {
     "data": {
      "image/png": "[encoded data removed]",
      "text/plain": [
       "<Figure size 432x288 with 1 Axes>"
      ]
     },
     "metadata": {
      "needs_background": "light"
     },
     "output_type": "display_data"
    }
   ],
   "source": [
    "res=pd.DataFrame(res,columns=['metric','time'])\n",
    "res.plot(x='metric')"
   ]
  },
  {
   "cell_type": "code",
   "execution_count": 17,
   "id": "391a4efc-7ec9-4b99-b6e4-912b4017d72c",
   "metadata": {},
   "outputs": [
    {
     "name": "stdout",
     "output_type": "stream",
     "text": [
      "guppy_basecaller -i test/fast5 -s test/basecall_fast --cpu_threads_per_caller 20 --num_callers 20 --chunks_per_runner 512         --gpu_runners_per_device 5         -c /home/farrell/gitprojects/nanopore-project/test/custom.cfg -x \"cuda:0\"\n"
     ]
    },
    {
     "data": {
      "text/plain": [
       "74.63200640678406"
      ]
     },
     "execution_count": 17,
     "metadata": {},
     "output_type": "execute_result"
    }
   ],
   "source": [
    "cfg='/home/farrell/gitprojects/nanopore-project/test/custom.cfg'\n",
    "run_guppy('test/fast5','test/basecall_fast'20,20,512,5)"
   ]
  },
  {
   "cell_type": "code",
   "execution_count": 14,
   "id": "5ef2f54f-aba4-4d9f-8db7-3c203ecff953",
   "metadata": {},
   "outputs": [
    {
     "name": "stdout",
     "output_type": "stream",
     "text": [
      "guppy_basecaller -i test/fast5 -s test/basecall --cpu_threads_per_caller 20 --num_callers 20 --chunks_per_runner 512         --gpu_runners_per_device 5         -c /home/farrell/gitprojects/nanopore-project/test/custom_hac.cfg -x \"cuda:0\"\n"
     ]
    },
    {
     "data": {
      "text/plain": [
       "522.2056367397308"
      ]
     },
     "execution_count": 14,
     "metadata": {},
     "output_type": "execute_result"
    }
   ],
   "source": [
    "cfg='/home/farrell/gitprojects/nanopore-project/test/custom_hac.cfg'\n",
    "run_guppy('test/fast5','test/basecall_hac',20,20,512,5)"
   ]
  },
  {
   "cell_type": "markdown",
   "id": "3a580d6c-abc7-466f-b71f-45d3531d6c7b",
   "metadata": {},
   "source": [
    "## bonito caller"
   ]
  },
  {
   "cell_type": "code",
   "execution_count": null,
   "id": "04ad947e-570d-43aa-92d2-81f08e87a6ac",
   "metadata": {},
   "outputs": [],
   "source": []
  },
  {
   "cell_type": "markdown",
   "id": "71b26600-069f-487b-b86d-e040052bc8d6",
   "metadata": {},
   "source": [
    "## join fastqs"
   ]
  },
  {
   "cell_type": "code",
   "execution_count": 23,
   "id": "01f98689-37f2-4701-b090-90c3fa481ac7",
   "metadata": {},
   "outputs": [
    {
     "name": "stdout",
     "output_type": "stream",
     "text": [
      "cat test/basecall_hac/pass/*.fastq > hac_joined.fastq\n"
     ]
    }
   ],
   "source": [
    "# join fastqs\n",
    "def join_fastq(path, out):\n",
    "    import gzip\n",
    "    files = os.path.join(path,'*.fastq')\n",
    "    cmd = 'cat {f} > {o}'.format(f=files,o=out)\n",
    "    print (cmd)\n",
    "    subprocess.check_output(cmd,shell=True)\n",
    "    cmd = 'gzip %s' %out\n",
    "    print ('compressing')\n",
    "    subprocess.check_output(cmd,shell=True)\n",
    "    return\n",
    "\n",
    "join_fastq('test/basecall_hac/pass/', 'test/hac_joined.fastq')"
   ]
  },
  {
   "cell_type": "markdown",
   "id": "98221168-fdd9-4fbe-84fc-dfcd55046d98",
   "metadata": {},
   "source": [
    "## align with minimap2"
   ]
  },
  {
   "cell_type": "code",
   "execution_count": 34,
   "id": "c0778c72-c5d2-4e17-852d-5115ae1cd5f3",
   "metadata": {},
   "outputs": [],
   "source": [
    "out = 'test/hac.bam'\n",
    "ref = 'phage_lambda.fasta'\n",
    "#query = 'test/basecall_hac/pass/fastq_runid_15a87511c08725ce03507bdf86e85cdf36ec5a02_0_0.fastq'\n",
    "query = 'test/hac_joined.fastq.gz'\n",
    "\n",
    "def align_minimap2(query,out,ref,threads=4):\n",
    "    cmd = 'minimap2 -ax map-ont -t {t} {r} {q} | samtools sort -o {o}'.format(o=out,r=ref,q=query,t=threads)\n",
    "    print (cmd)\n",
    "    subprocess.check_output(cmd,shell=True)\n",
    "    \n",
    "#align_minimap2(query,out,ref)"
   ]
  },
  {
   "cell_type": "markdown",
   "id": "33da1472-d44c-4cae-8c8b-022b4ecf33bb",
   "metadata": {},
   "source": [
    "## m.bovis samples"
   ]
  },
  {
   "cell_type": "code",
   "execution_count": null,
   "id": "40227deb-61bd-4ff7-b251-cff438bbfea6",
   "metadata": {},
   "outputs": [],
   "source": [
    "cfg='/home/farrell/gitprojects/nanopore-project/test/custom_hac.cfg'\n",
    "path = '/storage/ONT/TB19-3825_05_OCT_21_GS/TB19-3825/20211005_1220_MN37978_FAQ44893_37c3a1fa/fast5/'\n",
    "run_guppy(path,'test/TB19-3825',20,20,512,5)"
   ]
  },
  {
   "cell_type": "code",
   "execution_count": 51,
   "id": "8da27b71-3561-49ef-b36f-a48a96247dcc",
   "metadata": {},
   "outputs": [
    {
     "name": "stdout",
     "output_type": "stream",
     "text": [
      "minimap2 -ax map-ont -t 20 Mbovis_AF212297.fa test/TB20-3738.fastq.gz | samtools sort -o test/TB20-3738-ont.bam\n"
     ]
    }
   ],
   "source": [
    "name = 'TB20-3738'\n",
    "#join_fastq('test/%s/pass'% name, 'test/%s.fastq' %name)\n",
    "ref = 'Mbovis_AF212297.fa'\n",
    "align_minimap2('test/%s.fastq.gz' %name,'test/%s-ont.bam' %name,ref,20)"
   ]
  },
  {
   "cell_type": "markdown",
   "id": "84eaa9ac-bc30-46c3-a384-0c7cba030254",
   "metadata": {},
   "source": [
    "## find depth/coverage of runs"
   ]
  },
  {
   "cell_type": "code",
   "execution_count": 211,
   "id": "e26db201-5125-4ca8-aa3a-97a284b9774e",
   "metadata": {},
   "outputs": [
    {
     "name": "stdout",
     "output_type": "stream",
     "text": [
      "test/mapped_mbovis/TB20-3762-ont.bam 154.73\n",
      "test/mapped_mbovis/TB19-3825-ont.bam 130.61\n",
      "test/mapped_mbovis/TB20-3738-ont.bam 624.09\n"
     ]
    }
   ],
   "source": [
    "for f in bam_files:\n",
    "    c=tools.get_mean_depth(f)\n",
    "    #depths.append(c)\n",
    "    print (f,c)"
   ]
  },
  {
   "cell_type": "markdown",
   "id": "8446c682-3e14-48bd-a24b-5ec01cfb6008",
   "metadata": {},
   "source": [
    "## call variants with snipgenie and compare with illumina (duplicates)"
   ]
  },
  {
   "cell_type": "code",
   "execution_count": null,
   "id": "64c7f457-71a5-4200-96fa-ed0d13e6d604",
   "metadata": {},
   "outputs": [],
   "source": [
    "bam_files =app.get_files_from_paths('test/mapped_mbovis/', '*.bam')\n",
    "gff_file='mbovis.gff'\n",
    "tools.gff_bcftools_format(app.mbovis_gb, gff_file)\n",
    "\n",
    "all_bam = ['/storage/btbgenie/dup_results/mapped/TB19-003738.bam',\n",
    "          '/storage/btbgenie/dup_results/mapped/TB19-003825.bam',\n",
    "          '/storage/btbgenie/dup_results/mapped/TB19-003762.bam',\n",
    "          '/storage/btbgenie/monaghan/monaghan_results/mapped/3762.bam',\n",
    "          '/storage/btbgenie/monaghan/monaghan_results/mapped/3738.bam',\n",
    "          '/storage/btbgenie/monaghan/monaghan_results/mapped/3825.bam',\n",
    "          ]\n",
    "\n",
    "all_bam += bam_files\n",
    "app.run_bamfiles(all_bam, app.mbovis_genome, outdir='test/variantcall', \n",
    "                 threads=20,\n",
    "                 mask=app.mbovis_mask, gff_file=gff_file,\n",
    "                 custom_filters=True)"
   ]
  },
  {
   "cell_type": "code",
   "execution_count": 107,
   "id": "afba874c-9277-4a49-bc67-4784b4b2f550",
   "metadata": {},
   "outputs": [
    {
     "data": {
      "image/png": "[encoded data removed]",
      "text/plain": [
       "<Figure size 720x720 with 4 Axes>"
      ]
     },
     "metadata": {
      "needs_background": "light"
     },
     "output_type": "display_data"
    }
   ],
   "source": [
    "sdist = pd.read_csv('test/variantcall/snpdist.csv',index_col=0)\n",
    "g=sns.clustermap(sdist,cmap='coolwarm',annot=True,fmt='.0f')\n",
    "g.cax.set_visible(False)\n",
    "g.savefig('snp_ont_compared_clustermap.png')"
   ]
  },
  {
   "cell_type": "code",
   "execution_count": null,
   "id": "f58c2bc9-923e-4415-87ee-b527d1783dd3",
   "metadata": {},
   "outputs": [],
   "source": [
    "import toytree\n",
    "tre = toytree.tree('test/variantcall/tree.newick')\n",
    "tre=tre.drop_tips(['ref'])\n",
    "tre=tre.root('3762')\n",
    "canvas,t,r=tre.draw(layout='r',width=1000,height=600,scalebar=True,)"
   ]
  },
  {
   "cell_type": "code",
   "execution_count": 219,
   "id": "00faeacd-4968-48b0-85b7-3d987c97ee3f",
   "metadata": {},
   "outputs": [],
   "source": [
    "csqmat = pd.read_csv('test/variantcall/csq.matrix')"
   ]
  },
  {
   "cell_type": "code",
   "execution_count": 250,
   "id": "9be67c7d-2b22-4995-b5bc-d32fb22e7611",
   "metadata": {},
   "outputs": [
    {
     "name": "stdout",
     "output_type": "stream",
     "text": [
      "['TB19-003738', '3738', 'TB20-3738-ont']\n",
      "17    2\n",
      "dtype: int64\n",
      "     start  gene       aa  snp_type  TB19-003738  3738  TB20-3738-ont\n",
      "17  252261  pckA  95D>95G  missense            1     0              1\n",
      "['TB19-003825', '3825', 'TB19-3825-ont']\n",
      "Series([], dtype: int64)\n",
      "['TB19-003762', '3762', 'TB20-3762-ont']\n",
      "69     1\n",
      "136    1\n",
      "dtype: int64\n",
      "       start            gene       aa    snp_type  TB19-003762  3762  \\\n",
      "69   1343752  BQ2027_MB1231c      43A  synonymous            0     0   \n",
      "136  2840052          vapc18  12H>12R    missense            0     0   \n",
      "\n",
      "     TB20-3762-ont  \n",
      "69               1  \n",
      "136              1  \n"
     ]
    },
    {
     "data": {
      "text/html": [
       "<div>\n",
       "<style scoped>\n",
       "    .dataframe tbody tr th:only-of-type {\n",
       "        vertical-align: middle;\n",
       "    }\n",
       "\n",
       "    .dataframe tbody tr th {\n",
       "        vertical-align: top;\n",
       "    }\n",
       "\n",
       "    .dataframe thead th {\n",
       "        text-align: right;\n",
       "    }\n",
       "</style>\n",
       "<table border=\"1\" class=\"dataframe\">\n",
       "  <thead>\n",
       "    <tr style=\"text-align: right;\">\n",
       "      <th></th>\n",
       "      <th>start</th>\n",
       "      <th>gene</th>\n",
       "      <th>aa</th>\n",
       "      <th>snp_type</th>\n",
       "      <th>samples</th>\n",
       "    </tr>\n",
       "  </thead>\n",
       "  <tbody>\n",
       "    <tr>\n",
       "      <th>17</th>\n",
       "      <td>252261</td>\n",
       "      <td>pckA</td>\n",
       "      <td>95D&gt;95G</td>\n",
       "      <td>missense</td>\n",
       "      <td>TB19-003738v3738vTB20-3738-ont</td>\n",
       "    </tr>\n",
       "    <tr>\n",
       "      <th>69</th>\n",
       "      <td>1343752</td>\n",
       "      <td>BQ2027_MB1231c</td>\n",
       "      <td>43A</td>\n",
       "      <td>synonymous</td>\n",
       "      <td>TB19-003762v3762vTB20-3762-ont</td>\n",
       "    </tr>\n",
       "    <tr>\n",
       "      <th>136</th>\n",
       "      <td>2840052</td>\n",
       "      <td>vapc18</td>\n",
       "      <td>12H&gt;12R</td>\n",
       "      <td>missense</td>\n",
       "      <td>TB19-003762v3762vTB20-3762-ont</td>\n",
       "    </tr>\n",
       "  </tbody>\n",
       "</table>\n",
       "</div>"
      ],
      "text/plain": [
       "       start            gene       aa    snp_type  \\\n",
       "17    252261            pckA  95D>95G    missense   \n",
       "69   1343752  BQ2027_MB1231c      43A  synonymous   \n",
       "136  2840052          vapc18  12H>12R    missense   \n",
       "\n",
       "                            samples  \n",
       "17   TB19-003738v3738vTB20-3738-ont  \n",
       "69   TB19-003762v3762vTB20-3762-ont  \n",
       "136  TB19-003762v3762vTB20-3762-ont  "
      ]
     },
     "execution_count": 250,
     "metadata": {},
     "output_type": "execute_result"
    }
   ],
   "source": [
    "dupsnps=[]\n",
    "for i,g in df.groupby('pair'):\n",
    "    c = list(g['sample'])   \n",
    "    print (c)\n",
    "    s = csqmat[c]\n",
    "    s = s[c].sum(1)\n",
    "    s = s[(s>0) &(s<3)]\n",
    "    print (s)\n",
    "    if len(s)==0:\n",
    "        continue\n",
    "    found = csqmat.loc[s.index]\n",
    "    found['samples'] = 'v'.join(c)\n",
    "    dupsnps.append(found)\n",
    "    print (found[list(csqmat.columns[:4])+c])\n",
    "    \n",
    "dupsnps=pd.concat(dupsnps)\n",
    "cols=list(csqmat.columns[:4])+['samples']\n",
    "dupsnps[cols]"
   ]
  },
  {
   "cell_type": "markdown",
   "id": "2d75d5dd-5e94-43c7-bdc8-26573c4a74bd",
   "metadata": {},
   "source": [
    "## assembly with Flye"
   ]
  },
  {
   "cell_type": "code",
   "execution_count": 116,
   "id": "56cdd984-f680-41d2-ae50-97c36569a71f",
   "metadata": {},
   "outputs": [],
   "source": [
    "query='test/TB19-3825.fastq.gz'\n",
    "out='test/TB19-3825_flye'\n",
    "threads=4\n",
    "def flye_assembly(query, out, threads):\n",
    "    cmd = 'flye --nano-raw {q} --out-dir {o} --threads {t}'.format(o=out,q=query,t=threads)\n",
    "    print (cmd)\n",
    "    subprocess.check_output(cmd, shell=True)\n",
    "    return"
   ]
  },
  {
   "cell_type": "code",
   "execution_count": 140,
   "id": "73454e81-caa1-4e24-890d-a1449789f410",
   "metadata": {},
   "outputs": [
    {
     "name": "stdout",
     "output_type": "stream",
     "text": [
      "flye --nano-raw test/TB20-3762.fastq.gz --out-dir test/TB20-3762_flye --threads 12\n"
     ]
    }
   ],
   "source": [
    "query='test/TB20-3762.fastq.gz'\n",
    "flye_assembly(query, 'test/TB20-3762_flye', 12)"
   ]
  },
  {
   "cell_type": "markdown",
   "id": "dcfd78d3-2573-4bd4-8f33-6179d49553f9",
   "metadata": {},
   "source": [
    "## annotation with pathogenie"
   ]
  },
  {
   "cell_type": "code",
   "execution_count": null,
   "id": "044d66b7-6bdf-49c8-b645-dee50cd6754c",
   "metadata": {},
   "outputs": [],
   "source": [
    "import pathogenie\n",
    "res,recs = pathogenie.run_annotation('test/TB20-3762_flye/assembly.fasta', threads=10, trusted='Mbovis_AF212297_proteins.fa')\n",
    "pathogenie.recs_to_genbank(recs, 'test/annot/TB20-3762.gbk')"
   ]
  },
  {
   "cell_type": "code",
   "execution_count": 206,
   "id": "4ba5bd2f-9dc6-4b00-bfbc-961b534fc6c5",
   "metadata": {},
   "outputs": [],
   "source": [
    "def show_features(rec,start,end,i=1):\n",
    "    from Bio import SeqIO    \n",
    "    from dna_features_viewer import GraphicFeature, GraphicRecord\n",
    "    from dna_features_viewer import BiopythonTranslator\n",
    "    graphic_rec = BiopythonTranslator().translate_record(recs[i])\n",
    "    cropped_rec = graphic_rec.crop((start,end))\n",
    "    ax, _ = cropped_rec.plot(figure_width=14, strand_in_label_threshold=7)"
   ]
  },
  {
   "cell_type": "code",
   "execution_count": 210,
   "id": "463ec790-cfc6-43a6-8906-6d66a6d854f0",
   "metadata": {},
   "outputs": [
    {
     "data": {
      "image/png": "[encoded data removed]",
      "text/plain": [
       "<Figure size 1008x158.4 with 1 Axes>"
      ]
     },
     "metadata": {},
     "output_type": "display_data"
    },
    {
     "data": {
      "image/png": "[encoded data removed]",
      "text/plain": [
       "<Figure size 1008x158.4 with 1 Axes>"
      ]
     },
     "metadata": {},
     "output_type": "display_data"
    },
    {
     "data": {
      "image/png": "[encoded data removed]",
      "text/plain": [
       "<Figure size 1008x158.4 with 1 Axes>"
      ]
     },
     "metadata": {},
     "output_type": "display_data"
    }
   ],
   "source": [
    "for name,st,i in zip(['TB20-3738','TB19-3825','TB20-3762'],[2456000,862000,3464000],[1,1,0]):\n",
    "    recs = list(SeqIO.parse('test/annot/%s.gbk' %name,format='genbank'))\n",
    "    show_features(recs[0],st,st+12000,i)"
   ]
  },
  {
   "cell_type": "code",
   "execution_count": null,
   "id": "6807a616-51da-44bc-b11c-7f48eeadfd8c",
   "metadata": {},
   "outputs": [],
   "source": []
  }
 ],
 "metadata": {
  "kernelspec": {
   "display_name": "Python 3",
   "language": "python",
   "name": "python3"
  },
  "language_info": {
   "codemirror_mode": {
    "name": "ipython",
    "version": 3
   },
   "file_extension": ".py",
   "mimetype": "text/x-python",
   "name": "python",
   "nbconvert_exporter": "python",
   "pygments_lexer": "ipython3",
   "version": "3.9.5"
  }
 },
 "nbformat": 4,
 "nbformat_minor": 5
}
