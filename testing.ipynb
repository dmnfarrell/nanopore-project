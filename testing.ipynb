{
 "cells": [
  {
   "cell_type": "markdown",
   "id": "bc095f2c-72f9-4cd2-ae1f-8b187a1f51d3",
   "metadata": {},
   "source": [
    "# ONT for bacterial SNP calling\n",
    "\n",
    "* tools used: medaka, guppy"
   ]
  },
  {
   "cell_type": "code",
   "execution_count": 10,
   "id": "27cc668d-6331-4820-93dd-cf945aee377b",
   "metadata": {},
   "outputs": [],
   "source": [
    "import sys,os,shutil,subprocess\n",
    "import glob,time\n",
    "from importlib import reload\n",
    "import numpy as np\n",
    "import pandas as pd"
   ]
  },
  {
   "cell_type": "markdown",
   "id": "f4510624-57e5-44c7-81e5-25096fa0cf7c",
   "metadata": {},
   "source": [
    "## test guppy command"
   ]
  },
  {
   "cell_type": "code",
   "execution_count": 27,
   "id": "f5b66143-ec34-4d9f-8319-7dd34089498d",
   "metadata": {},
   "outputs": [],
   "source": [
    "def run_guppy(path,out,threads_per_caller,num_callers,chunks_per_runner,gpu_runners_per_device):\n",
    "        \n",
    "    cmd = 'guppy_basecaller -i {p} -s {o} --cpu_threads_per_caller {tpc} --num_callers {nc} --chunks_per_runner {cpr} \\\n",
    "        --gpu_runners_per_device {grpd} \\\n",
    "        -c {c} -x \"cuda:0\"'.format(o=out,p=path,c=cfg,tpc=threads_per_caller,nc=num_callers,\n",
    "                                   cpr=chunks_per_runner,grpd=gpu_runners_per_device)\n",
    "    print (cmd)\n",
    "    st=time.time()\n",
    "    tmp = subprocess.check_output(cmd, shell=True)\n",
    "    elapsed=time.time()-st\n",
    "    return elapsed"
   ]
  },
  {
   "cell_type": "code",
   "execution_count": null,
   "id": "ffab6193-7585-42fd-9141-5aefd0b1735c",
   "metadata": {},
   "outputs": [],
   "source": [
    "cfg='/home/farrell/gitprojects/nanopore-project/test/custom.cfg' \n",
    "res=[]\n",
    "for x in range(1,10,1):\n",
    "    t = run_guppy('test/fast5','test/basecall_fast/',20,20,512,x)\n",
    "    print (x,t)\n",
    "    res.append([x,t])"
   ]
  },
  {
   "cell_type": "code",
   "execution_count": null,
   "id": "d62e24cf-4cbf-465b-8afa-61318216f8fd",
   "metadata": {},
   "outputs": [],
   "source": [
    "res=pd.DataFrame(res,columns=['metric','time'])\n",
    "res.plot(x='metric')"
   ]
  },
  {
   "cell_type": "code",
   "execution_count": 17,
   "id": "391a4efc-7ec9-4b99-b6e4-912b4017d72c",
   "metadata": {},
   "outputs": [
    {
     "name": "stdout",
     "output_type": "stream",
     "text": [
      "guppy_basecaller -i test/fast5 -s test/basecall_fast --cpu_threads_per_caller 20 --num_callers 20 --chunks_per_runner 512         --gpu_runners_per_device 5         -c /home/farrell/gitprojects/nanopore-project/test/custom.cfg -x \"cuda:0\"\n"
     ]
    },
    {
     "data": {
      "text/plain": [
       "74.63200640678406"
      ]
     },
     "execution_count": 17,
     "metadata": {},
     "output_type": "execute_result"
    }
   ],
   "source": [
    "cfg='/home/farrell/gitprojects/nanopore-project/test/custom.cfg'\n",
    "run_guppy('test/fast5','test/basecall_fast'20,20,512,5)"
   ]
  },
  {
   "cell_type": "code",
   "execution_count": 14,
   "id": "5ef2f54f-aba4-4d9f-8db7-3c203ecff953",
   "metadata": {},
   "outputs": [
    {
     "name": "stdout",
     "output_type": "stream",
     "text": [
      "guppy_basecaller -i test/fast5 -s test/basecall --cpu_threads_per_caller 20 --num_callers 20 --chunks_per_runner 512         --gpu_runners_per_device 5         -c /home/farrell/gitprojects/nanopore-project/test/custom_hac.cfg -x \"cuda:0\"\n"
     ]
    },
    {
     "data": {
      "text/plain": [
       "522.2056367397308"
      ]
     },
     "execution_count": 14,
     "metadata": {},
     "output_type": "execute_result"
    }
   ],
   "source": [
    "cfg='/home/farrell/gitprojects/nanopore-project/test/custom_hac.cfg'\n",
    "run_guppy('test/fast5','test/basecall_hac',20,20,512,5)"
   ]
  },
  {
   "cell_type": "markdown",
   "id": "3a580d6c-abc7-466f-b71f-45d3531d6c7b",
   "metadata": {},
   "source": [
    "## bonito caller"
   ]
  },
  {
   "cell_type": "code",
   "execution_count": null,
   "id": "04ad947e-570d-43aa-92d2-81f08e87a6ac",
   "metadata": {},
   "outputs": [],
   "source": []
  },
  {
   "cell_type": "markdown",
   "id": "71b26600-069f-487b-b86d-e040052bc8d6",
   "metadata": {},
   "source": [
    "## join fastqs"
   ]
  },
  {
   "cell_type": "code",
   "execution_count": 23,
   "id": "01f98689-37f2-4701-b090-90c3fa481ac7",
   "metadata": {},
   "outputs": [
    {
     "name": "stdout",
     "output_type": "stream",
     "text": [
      "cat test/basecall_hac/pass/*.fastq > hac_joined.fastq\n"
     ]
    }
   ],
   "source": [
    "# join fastqs\n",
    "def join_fastq(path, out):\n",
    "    import gzip\n",
    "    files = os.path.join(path,'*.fastq')\n",
    "    cmd = 'cat {f} > {o}'.format(f=files,o=out)\n",
    "    print (cmd)\n",
    "    subprocess.check_output(cmd,shell=True)\n",
    "    cmd = 'gzip %s' %out\n",
    "    print ('compressing')\n",
    "    subprocess.check_output(cmd,shell=True)\n",
    "    return\n",
    "\n",
    "join_fastq('test/basecall_hac/pass/', 'test/hac_joined.fastq')"
   ]
  },
  {
   "cell_type": "markdown",
   "id": "98221168-fdd9-4fbe-84fc-dfcd55046d98",
   "metadata": {},
   "source": [
    "## align with minimap2"
   ]
  },
  {
   "cell_type": "code",
   "execution_count": 34,
   "id": "c0778c72-c5d2-4e17-852d-5115ae1cd5f3",
   "metadata": {},
   "outputs": [],
   "source": [
    "out = 'test/hac.bam'\n",
    "ref = 'phage_lambda.fasta'\n",
    "#query = 'test/basecall_hac/pass/fastq_runid_15a87511c08725ce03507bdf86e85cdf36ec5a02_0_0.fastq'\n",
    "query = 'test/hac_joined.fastq.gz'\n",
    "\n",
    "def align_minimap2(query,out,ref,threads=4):\n",
    "    cmd = 'minimap2 -ax map-ont -t {t} {r} {q} | samtools sort -o {o}'.format(o=out,r=ref,q=query,t=threads)\n",
    "    print (cmd)\n",
    "    subprocess.check_output(cmd,shell=True)\n",
    "    \n",
    "#align_minimap2(query,out,ref)"
   ]
  },
  {
   "cell_type": "markdown",
   "id": "33da1472-d44c-4cae-8c8b-022b4ecf33bb",
   "metadata": {},
   "source": [
    "## m.bovis samples"
   ]
  },
  {
   "cell_type": "code",
   "execution_count": null,
   "id": "40227deb-61bd-4ff7-b251-cff438bbfea6",
   "metadata": {},
   "outputs": [],
   "source": [
    "cfg='/home/farrell/gitprojects/nanopore-project/test/custom_hac.cfg'\n",
    "path = '/storage/ONT/TB19-3825_05_OCT_21_GS/TB19-3825/20211005_1220_MN37978_FAQ44893_37c3a1fa/fast5/'\n",
    "run_guppy(path,'test/TB19-3825',20,20,512,5)"
   ]
  },
  {
   "cell_type": "code",
   "execution_count": 42,
   "id": "8da27b71-3561-49ef-b36f-a48a96247dcc",
   "metadata": {},
   "outputs": [
    {
     "name": "stdout",
     "output_type": "stream",
     "text": [
      "cat test/TB20-3738/pass/*.fastq > test/TB20-3738.fastq\n",
      "minimap2 -ax map-ont -t 20 Mbovis_AF212297.fa test/TB20-3738.fastq.gz | samtools sort -o test/TB20-3738.bam\n"
     ]
    }
   ],
   "source": [
    "name = 'TB20-3738'\n",
    "join_fastq('test/%s/pass'% name, 'test/%s.fastq' %name)\n",
    "ref = 'Mbovis_AF212297.fa'\n",
    "align_minimap2('test/%s.fastq.gz' %name,'test/%s.bam' %name,ref,20)"
   ]
  },
  {
   "cell_type": "markdown",
   "id": "84eaa9ac-bc30-46c3-a384-0c7cba030254",
   "metadata": {},
   "source": [
    "## find depth/coverage of runs"
   ]
  },
  {
   "cell_type": "code",
   "execution_count": null,
   "id": "e26db201-5125-4ca8-aa3a-97a284b9774e",
   "metadata": {},
   "outputs": [],
   "source": []
  },
  {
   "cell_type": "markdown",
   "id": "14aee20e-0927-4ade-865b-db58c2d44724",
   "metadata": {},
   "source": [
    "## call variants with snipgenie"
   ]
  },
  {
   "cell_type": "code",
   "execution_count": 46,
   "id": "da820bd9-94a1-42fd-9c14-778bb12e2251",
   "metadata": {},
   "outputs": [
    {
     "name": "stdout",
     "output_type": "stream",
     "text": [
      "[      1  217496  434991  652486  869981 1087476 1304971 1522467 1739962\n",
      " 1957457 2174952 2392447 2609942 2827437 3044933 3262428 3479923 3697418\n",
      " 3914913 4132408 4349904]\n",
      "parallel bcftools mpileup -r {1} -a \"AD,ADF,ADR,DP,SP,INFO/AD,INFO/ADF,INFO/ADR\" -O b --min-MQ 10 -o {2} -f /home/farrell/.config/snipgenie/genome/Mbovis_AF212297.fa test/mapped_mbovis/TB20-3762.bam test/mapped_mbovis/TB19-3825.bam test/mapped_mbovis/TB20-3738.bam ::: \"LT708304.1\":1-217495 \"LT708304.1\":217496-434990 \"LT708304.1\":434991-652485 \"LT708304.1\":652486-869980 \"LT708304.1\":869981-1087475 \"LT708304.1\":1087476-1304970 \"LT708304.1\":1304971-1522466 \"LT708304.1\":1522467-1739961 \"LT708304.1\":1739962-1957456 \"LT708304.1\":1957457-2174951 \"LT708304.1\":2174952-2392446 \"LT708304.1\":2392447-2609941 \"LT708304.1\":2609942-2827436 \"LT708304.1\":2827437-3044932 \"LT708304.1\":3044933-3262427 \"LT708304.1\":3262428-3479922 \"LT708304.1\":3479923-3697417 \"LT708304.1\":3697418-3914912 \"LT708304.1\":3914913-4132407 \"LT708304.1\":4132408-4349903 :::+ /tmp/1.bcf /tmp/217496.bcf /tmp/434991.bcf /tmp/652486.bcf /tmp/869981.bcf /tmp/1087476.bcf /tmp/1304971.bcf /tmp/1522467.bcf /tmp/1739962.bcf /tmp/1957457.bcf /tmp/2174952.bcf /tmp/2392447.bcf /tmp/2609942.bcf /tmp/2827437.bcf /tmp/3044933.bcf /tmp/3262428.bcf /tmp/3479923.bcf /tmp/3697418.bcf /tmp/3914913.bcf /tmp/4132408.bcf\n",
      "bcftools concat /tmp/1.bcf /tmp/217496.bcf /tmp/434991.bcf /tmp/652486.bcf /tmp/869981.bcf /tmp/1087476.bcf /tmp/1304971.bcf /tmp/1522467.bcf /tmp/1739962.bcf /tmp/1957457.bcf /tmp/2174952.bcf /tmp/2392447.bcf /tmp/2609942.bcf /tmp/2827437.bcf /tmp/3044933.bcf /tmp/3262428.bcf /tmp/3479923.bcf /tmp/3697418.bcf /tmp/3914913.bcf /tmp/4132408.bcf -O b -o test/variantcall/raw.bcf\n",
      "calling variants..\n",
      "bcftools call --ploidy 1 -m -v -o test/variantcall/calls.vcf test/variantcall/raw.bcf\n",
      "test/variantcall/samples.txt\n",
      "bcftools reheader --samples test/variantcall/samples.txt -o /tmp/calls.vcf test/variantcall/calls.vcf\n",
      "bcftools filter -i \"QUAL>=40 && FORMAT/DP>=30 && DP4>=4\" -o test/variantcall/filtered.vcf.gz -O z test/variantcall/calls.vcf\n",
      "splitting snps and indels..\n",
      "bcftools view -v snps -o test/variantcall/snps.vcf.gz -O z test/variantcall/filtered.vcf.gz\n",
      "bcftools view -v indels -o test/variantcall/indels.vcf.gz -O z test/variantcall/filtered.vcf.gz\n",
      "using mask bed file /home/farrell/gitprojects/snipgenie/snipgenie/data/Mbovis_AF212297_mask.bed\n",
      "310 sites\n",
      "found 80 sites in masked regions\n",
      "proximity filter found 16/230 sites\n",
      "consequence calling..\n",
      "bcftools csq -f /home/farrell/.config/snipgenie/genome/Mbovis_AF212297.fa -g mbovis.gff test/variantcall/snps.vcf.gz -Ot -o test/variantcall/csq.tsv\n",
      "bcftools csq -f /home/farrell/.config/snipgenie/genome/Mbovis_AF212297.fa -g mbovis.gff test/variantcall/indels.vcf.gz -Ot -o test/variantcall/csq_indels.tsv\n",
      "took 4174.0 seconds\n",
      "found 152 sites\n",
      "0 sites with at least one missing sample\n",
      "66 uninformative sites\n",
      "raxmlHPC-PTHREADS -f a -N 100 -T 8 -m GTRCAT -V -p 29425909 -x 22962119 -n variants -w /home/farrell/gitprojects/nanopore-project/test/variantcall -s test/variantcall/core.fa\n"
     ]
    }
   ],
   "source": [
    "from snipgenie import app, tools\n",
    "\n",
    "bam_files =app.get_files_from_paths('test/mapped_mbovis/', '*.bam')\n",
    "gff_file='mbovis.gff'\n",
    "tools.gff_bcftools_format(app.mbovis_gb, gff_file)\n",
    "app.run_bamfiles(bam_files, app.mbovis_genome, outdir='test/variantcall', \n",
    "                 threads=20,\n",
    "                 mask=app.mbovis_mask, gff_file=gff_file,\n",
    "                 custom_filters=True, overwrite=False)"
   ]
  },
  {
   "cell_type": "code",
   "execution_count": null,
   "id": "2e7309b1-de15-47df-9351-c06c201b213e",
   "metadata": {},
   "outputs": [],
   "source": []
  }
 ],
 "metadata": {
  "kernelspec": {
   "display_name": "Python 3",
   "language": "python",
   "name": "python3"
  },
  "language_info": {
   "codemirror_mode": {
    "name": "ipython",
    "version": 3
   },
   "file_extension": ".py",
   "mimetype": "text/x-python",
   "name": "python",
   "nbconvert_exporter": "python",
   "pygments_lexer": "ipython3",
   "version": "3.9.5"
  }
 },
 "nbformat": 4,
 "nbformat_minor": 5
}
